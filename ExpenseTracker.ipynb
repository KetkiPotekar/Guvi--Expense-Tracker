{
 "cells": [
  {
   "cell_type": "code",
   "execution_count": 3,
   "id": "7924a14f-387d-46d5-baab-86321242a5a6",
   "metadata": {},
   "outputs": [
    {
     "name": "stdout",
     "output_type": "stream",
     "text": [
      "Collecting faker\n",
      "  Using cached Faker-33.1.0-py3-none-any.whl.metadata (15 kB)\n",
      "Requirement already satisfied: python-dateutil>=2.4 in c:\\users\\ratnakar\\anaconda3\\envs\\guvi_ds\\lib\\site-packages (from faker) (2.9.0.post0)\n",
      "Requirement already satisfied: typing-extensions in c:\\users\\ratnakar\\anaconda3\\envs\\guvi_ds\\lib\\site-packages (from faker) (4.11.0)\n",
      "Requirement already satisfied: six>=1.5 in c:\\users\\ratnakar\\anaconda3\\envs\\guvi_ds\\lib\\site-packages (from python-dateutil>=2.4->faker) (1.16.0)\n",
      "Using cached Faker-33.1.0-py3-none-any.whl (1.9 MB)\n",
      "Installing collected packages: faker\n",
      "Successfully installed faker-33.1.0\n",
      "Note: you may need to restart the kernel to use updated packages.\n"
     ]
    }
   ],
   "source": [
    "pip install faker"
   ]
  },
  {
   "cell_type": "code",
   "execution_count": 7,
   "id": "e982a442-5cf6-46db-91e5-82cfea30d45c",
   "metadata": {},
   "outputs": [
    {
     "name": "stdout",
     "output_type": "stream",
     "text": [
      "Collecting pandas\n",
      "  Using cached pandas-2.2.3-cp311-cp311-win_amd64.whl.metadata (19 kB)\n",
      "Collecting numpy>=1.23.2 (from pandas)\n",
      "  Using cached numpy-2.2.1-cp311-cp311-win_amd64.whl.metadata (60 kB)\n",
      "Requirement already satisfied: python-dateutil>=2.8.2 in c:\\users\\ratnakar\\anaconda3\\envs\\guvi_ds\\lib\\site-packages (from pandas) (2.9.0.post0)\n",
      "Requirement already satisfied: pytz>=2020.1 in c:\\users\\ratnakar\\anaconda3\\envs\\guvi_ds\\lib\\site-packages (from pandas) (2024.1)\n",
      "Collecting tzdata>=2022.7 (from pandas)\n",
      "  Using cached tzdata-2024.2-py2.py3-none-any.whl.metadata (1.4 kB)\n",
      "Requirement already satisfied: six>=1.5 in c:\\users\\ratnakar\\anaconda3\\envs\\guvi_ds\\lib\\site-packages (from python-dateutil>=2.8.2->pandas) (1.16.0)\n",
      "Using cached pandas-2.2.3-cp311-cp311-win_amd64.whl (11.6 MB)\n",
      "Using cached numpy-2.2.1-cp311-cp311-win_amd64.whl (12.9 MB)\n",
      "Using cached tzdata-2024.2-py2.py3-none-any.whl (346 kB)\n",
      "Installing collected packages: tzdata, numpy, pandas\n",
      "Successfully installed numpy-2.2.1 pandas-2.2.3 tzdata-2024.2\n",
      "Note: you may need to restart the kernel to use updated packages.\n"
     ]
    }
   ],
   "source": [
    "pip install pandas"
   ]
  },
  {
   "cell_type": "code",
   "execution_count": 8,
   "id": "f19853dc-b776-4fc0-a375-ca28047aeb15",
   "metadata": {},
   "outputs": [],
   "source": [
    "from faker import Faker\n",
    "import random\n",
    "import pandas as pd\n",
    "\n",
    "fake = Faker()"
   ]
  },
  {
   "cell_type": "code",
   "execution_count": 22,
   "id": "a8ae0248-8e3e-42d5-990a-5c46fef1c73a",
   "metadata": {},
   "outputs": [
    {
     "name": "stdin",
     "output_type": "stream",
     "text": [
      "Enter the target month (1-12):  1\n",
      "Enter the target year (e.g., 2024):  2024\n"
     ]
    },
    {
     "name": "stdout",
     "output_type": "stream",
     "text": [
      "Sample data for the specified month generated!\n"
     ]
    }
   ],
   "source": [
    "from faker import Faker\n",
    "import random\n",
    "import pandas as pd\n",
    "\n",
    "fake = Faker()\n",
    "\n",
    "def generate_expenses(num_entries, month, year):\n",
    "    categories = ['Food', 'Transportation', 'Bills', 'Groceries', 'Subscriptions', 'Entertainment', 'Miscellaneous']\n",
    "    payment_modes = ['Cash', 'UPI', 'Credit Card', 'Debit Card', 'NetBanking']\n",
    "    bills = ['electricity', 'gas', 'water', 'wifi', 'phone']\n",
    "    subscription = ['spotify', 'wynk', 'prime', 'netflix', 'youtube']\n",
    "    \n",
    "    data = []\n",
    "    for _ in range(num_entries):\n",
    "        # Generate a random date within the specified month and year\n",
    "        date = fake.date_between_dates(\n",
    "            date_start=pd.Timestamp(year, month, 1),\n",
    "            date_end=pd.Timestamp(year, month, 28)  # Assume 28 days for simplicity\n",
    "        )\n",
    "        data.append({\n",
    "            'Date': date,\n",
    "            'Category': random.choice(categories),\n",
    "            'Payment_Mode': random.choice(payment_modes),\n",
    "            'Description': fake.sentence(nb_words=5),\n",
    "            'Amount_Paid': round(random.uniform(10, 500), 2),\n",
    "            'Cashback': round(random.uniform(0, 20), 2) if random.random() > 0.5 else 0.0\n",
    "        })\n",
    "    return pd.DataFrame(data)\n",
    "\n",
    "# User input for month and year\n",
    "target_month = int(input(\"Enter the target month (1-12): \"))\n",
    "target_year = int(input(\"Enter the target year (e.g., 2024): \"))\n",
    "\n",
    "# Generate data\n",
    "df = generate_expenses(100, target_month, target_year)\n",
    "\n",
    "# Save to CSV\n",
    "df.to_csv('expenses_specific_month.csv', index=False)\n",
    "print(\"Sample data for the specified month generated!\")"
   ]
  },
  {
   "cell_type": "code",
   "execution_count": 23,
   "id": "bca2e3a2-2f61-4d52-8791-7365a5c70394",
   "metadata": {},
   "outputs": [
    {
     "data": {
      "text/plain": [
       "100"
      ]
     },
     "execution_count": 23,
     "metadata": {},
     "output_type": "execute_result"
    }
   ],
   "source": [
    "import sqlite3\n",
    "conn = sqlite3.connect('expenses.db')\n",
    "df.to_sql('January', conn, if_exists='replace', index=False)"
   ]
  },
  {
   "cell_type": "code",
   "execution_count": 24,
   "id": "68197226-4d98-4216-bdfb-176c8e4e54f9",
   "metadata": {},
   "outputs": [
    {
     "name": "stdin",
     "output_type": "stream",
     "text": [
      "Enter the target month (1-12):  2\n",
      "Enter the target year (e.g., 2024):  2024\n"
     ]
    },
    {
     "name": "stdout",
     "output_type": "stream",
     "text": [
      "Sample data for the specified month generated!\n"
     ]
    }
   ],
   "source": [
    "from faker import Faker\n",
    "import random\n",
    "import pandas as pd\n",
    "fake = Faker()\n",
    "\n",
    "def generate_expenses(num_entries, month, year):\n",
    "    categories = ['Food', 'Transportation', 'Bills', 'Groceries', 'Subscriptions', 'Entertainment', 'Miscellaneous']\n",
    "    payment_modes = ['Cash', 'UPI', 'Credit Card', 'Debit Card', 'NetBanking']\n",
    "    bills = ['electricity', 'gas', 'water', 'wifi', 'phone']\n",
    "    subscription = ['spotify', 'wynk', 'prime', 'netflix', 'youtube']\n",
    "    \n",
    "    data = []\n",
    "    for _ in range(num_entries):\n",
    "        # Generate a random date within the specified month and year\n",
    "        date = fake.date_between_dates(\n",
    "            date_start=pd.Timestamp(year, month, 1),\n",
    "            date_end=pd.Timestamp(year, month, 28)  # Assume 28 days for simplicity\n",
    "        )\n",
    "        data.append({\n",
    "            'Date': date,\n",
    "            'Category': random.choice(categories),\n",
    "            'Payment_Mode': random.choice(payment_modes),\n",
    "            'Description': fake.sentence(nb_words=5),\n",
    "            'Amount_Paid': round(random.uniform(10, 500), 2),\n",
    "            'Cashback': round(random.uniform(0, 20), 2) if random.random() > 0.5 else 0.0\n",
    "        })\n",
    "    return pd.DataFrame(data)\n",
    "\n",
    "# User input for month and year\n",
    "target_month = int(input(\"Enter the target month (1-12): \"))\n",
    "target_year = int(input(\"Enter the target year (e.g., 2024): \"))\n",
    "\n",
    "# Generate data\n",
    "df = generate_expenses(100, target_month, target_year)\n",
    "\n",
    "# Save to CSV\n",
    "df.to_csv('expenses_specific_month.csv', index=False)\n",
    "print(\"Sample data for the specified month generated!\")"
   ]
  },
  {
   "cell_type": "code",
   "execution_count": 25,
   "id": "79823c58-7553-4d7e-93f1-578574d720e6",
   "metadata": {},
   "outputs": [
    {
     "data": {
      "text/plain": [
       "100"
      ]
     },
     "execution_count": 25,
     "metadata": {},
     "output_type": "execute_result"
    }
   ],
   "source": [
    "import sqlite3\n",
    "conn = sqlite3.connect('expenses.db')\n",
    "df.to_sql('February', conn, if_exists='replace', index=False)"
   ]
  },
  {
   "cell_type": "code",
   "execution_count": 26,
   "id": "ad34f49d-8bd9-4179-bcbc-e02eddc91383",
   "metadata": {},
   "outputs": [
    {
     "name": "stdin",
     "output_type": "stream",
     "text": [
      "Enter the target month (1-12):  3\n",
      "Enter the target year (e.g., 2024):  2024\n"
     ]
    },
    {
     "name": "stdout",
     "output_type": "stream",
     "text": [
      "Sample data for the specified month generated!\n"
     ]
    }
   ],
   "source": [
    "from faker import Faker\n",
    "import random\n",
    "import pandas as pd\n",
    "fake = Faker()\n",
    "\n",
    "def generate_expenses(num_entries, month, year):\n",
    "    categories = ['Food', 'Transportation', 'Bills', 'Groceries', 'Subscriptions', 'Entertainment', 'Miscellaneous']\n",
    "    payment_modes = ['Cash', 'UPI', 'Credit Card', 'Debit Card', 'NetBanking']\n",
    "    bills = ['electricity', 'gas', 'water', 'wifi', 'phone']\n",
    "    subscription = ['spotify', 'wynk', 'prime', 'netflix', 'youtube']\n",
    "    \n",
    "    data = []\n",
    "    for _ in range(num_entries):\n",
    "        # Generate a random date within the specified month and year\n",
    "        date = fake.date_between_dates(\n",
    "            date_start=pd.Timestamp(year, month, 1),\n",
    "            date_end=pd.Timestamp(year, month, 28)  # Assume 28 days for simplicity\n",
    "        )\n",
    "        data.append({\n",
    "            'Date': date,\n",
    "            'Category': random.choice(categories),\n",
    "            'Payment_Mode': random.choice(payment_modes),\n",
    "            'Description': fake.sentence(nb_words=5),\n",
    "            'Amount_Paid': round(random.uniform(10, 500), 2),\n",
    "            'Cashback': round(random.uniform(0, 20), 2) if random.random() > 0.5 else 0.0\n",
    "        })\n",
    "    return pd.DataFrame(data)\n",
    "\n",
    "# User input for month and year\n",
    "target_month = int(input(\"Enter the target month (1-12): \"))\n",
    "target_year = int(input(\"Enter the target year (e.g., 2024): \"))\n",
    "\n",
    "# Generate data\n",
    "df = generate_expenses(100, target_month, target_year)\n",
    "\n",
    "# Save to CSV\n",
    "df.to_csv('expenses_specific_month.csv', index=False)\n",
    "print(\"Sample data for the specified month generated!\")"
   ]
  },
  {
   "cell_type": "code",
   "execution_count": 27,
   "id": "d19f92c5-010f-4b90-928c-c97e3534978c",
   "metadata": {},
   "outputs": [
    {
     "data": {
      "text/plain": [
       "100"
      ]
     },
     "execution_count": 27,
     "metadata": {},
     "output_type": "execute_result"
    }
   ],
   "source": [
    "import sqlite3\n",
    "conn = sqlite3.connect('expenses.db')\n",
    "df.to_sql('March', conn, if_exists='replace', index=False)"
   ]
  },
  {
   "cell_type": "code",
   "execution_count": 28,
   "id": "2c4ca1af-4c53-4fef-bc9a-520104afab20",
   "metadata": {},
   "outputs": [
    {
     "name": "stdin",
     "output_type": "stream",
     "text": [
      "Enter the target month (1-12):  4\n",
      "Enter the target year (e.g., 2024):  2024\n"
     ]
    },
    {
     "name": "stdout",
     "output_type": "stream",
     "text": [
      "Sample data for the specified month generated!\n"
     ]
    }
   ],
   "source": [
    "from faker import Faker\n",
    "import random\n",
    "import pandas as pd\n",
    "fake = Faker()\n",
    "\n",
    "def generate_expenses(num_entries, month, year):\n",
    "    categories = ['Food', 'Transportation', 'Bills', 'Groceries', 'Subscriptions', 'Entertainment', 'Miscellaneous']\n",
    "    payment_modes = ['Cash', 'UPI', 'Credit Card', 'Debit Card', 'NetBanking']\n",
    "    bills = ['electricity', 'gas', 'water', 'wifi', 'phone']\n",
    "    subscription = ['spotify', 'wynk', 'prime', 'netflix', 'youtube']\n",
    "    \n",
    "    data = []\n",
    "    for _ in range(num_entries):\n",
    "        # Generate a random date within the specified month and year\n",
    "        date = fake.date_between_dates(\n",
    "            date_start=pd.Timestamp(year, month, 1),\n",
    "            date_end=pd.Timestamp(year, month, 28)  # Assume 28 days for simplicity\n",
    "        )\n",
    "        data.append({\n",
    "            'Date': date,\n",
    "            'Category': random.choice(categories),\n",
    "            'Payment_Mode': random.choice(payment_modes),\n",
    "            'Description': fake.sentence(nb_words=5),\n",
    "            'Amount_Paid': round(random.uniform(10, 500), 2),\n",
    "            'Cashback': round(random.uniform(0, 20), 2) if random.random() > 0.5 else 0.0\n",
    "        })\n",
    "    return pd.DataFrame(data)\n",
    "\n",
    "# User input for month and year\n",
    "target_month = int(input(\"Enter the target month (1-12): \"))\n",
    "target_year = int(input(\"Enter the target year (e.g., 2024): \"))\n",
    "\n",
    "# Generate data\n",
    "df = generate_expenses(100, target_month, target_year)\n",
    "\n",
    "# Save to CSV\n",
    "df.to_csv('expenses_specific_month.csv', index=False)\n",
    "print(\"Sample data for the specified month generated!\")"
   ]
  },
  {
   "cell_type": "code",
   "execution_count": 29,
   "id": "1d9dbbe2-8e50-47c6-becd-279636d7f27c",
   "metadata": {},
   "outputs": [
    {
     "data": {
      "text/plain": [
       "100"
      ]
     },
     "execution_count": 29,
     "metadata": {},
     "output_type": "execute_result"
    }
   ],
   "source": [
    "import sqlite3\n",
    "conn = sqlite3.connect('expenses.db')\n",
    "df.to_sql('April', conn, if_exists='replace', index=False)"
   ]
  },
  {
   "cell_type": "code",
   "execution_count": 30,
   "id": "01b21d6d-a067-4f9a-b339-6ed46f70b4dc",
   "metadata": {},
   "outputs": [
    {
     "name": "stdin",
     "output_type": "stream",
     "text": [
      "Enter the target month (1-12):  5\n",
      "Enter the target year (e.g., 2024):  2024\n"
     ]
    },
    {
     "name": "stdout",
     "output_type": "stream",
     "text": [
      "Sample data for the specified month generated!\n"
     ]
    }
   ],
   "source": [
    "from faker import Faker\n",
    "import random\n",
    "import pandas as pd\n",
    "fake = Faker()\n",
    "\n",
    "def generate_expenses(num_entries, month, year):\n",
    "    categories = ['Food', 'Transportation', 'Bills', 'Groceries', 'Subscriptions', 'Entertainment', 'Miscellaneous']\n",
    "    payment_modes = ['Cash', 'UPI', 'Credit Card', 'Debit Card', 'NetBanking']\n",
    "    bills = ['electricity', 'gas', 'water', 'wifi', 'phone']\n",
    "    subscription = ['spotify', 'wynk', 'prime', 'netflix', 'youtube']\n",
    "    \n",
    "    data = []\n",
    "    for _ in range(num_entries):\n",
    "        # Generate a random date within the specified month and year\n",
    "        date = fake.date_between_dates(\n",
    "            date_start=pd.Timestamp(year, month, 1),\n",
    "            date_end=pd.Timestamp(year, month, 28)  # Assume 28 days for simplicity\n",
    "        )\n",
    "        data.append({\n",
    "            'Date': date,\n",
    "            'Category': random.choice(categories),\n",
    "            'Payment_Mode': random.choice(payment_modes),\n",
    "            'Description': fake.sentence(nb_words=5),\n",
    "            'Amount_Paid': round(random.uniform(10, 500), 2),\n",
    "            'Cashback': round(random.uniform(0, 20), 2) if random.random() > 0.5 else 0.0\n",
    "        })\n",
    "    return pd.DataFrame(data)\n",
    "\n",
    "# User input for month and year\n",
    "target_month = int(input(\"Enter the target month (1-12): \"))\n",
    "target_year = int(input(\"Enter the target year (e.g., 2024): \"))\n",
    "\n",
    "# Generate data\n",
    "df = generate_expenses(100, target_month, target_year)\n",
    "\n",
    "# Save to CSV\n",
    "df.to_csv('expenses_specific_month.csv', index=False)\n",
    "print(\"Sample data for the specified month generated!\")"
   ]
  },
  {
   "cell_type": "code",
   "execution_count": 31,
   "id": "1e66c8d0-eae9-415e-901a-c202a31112a7",
   "metadata": {},
   "outputs": [
    {
     "data": {
      "text/plain": [
       "100"
      ]
     },
     "execution_count": 31,
     "metadata": {},
     "output_type": "execute_result"
    }
   ],
   "source": [
    "import sqlite3\n",
    "conn = sqlite3.connect('expenses.db')\n",
    "df.to_sql('May', conn, if_exists='replace', index=False)"
   ]
  },
  {
   "cell_type": "code",
   "execution_count": 32,
   "id": "75add11e-cb58-4037-afff-6a13a14fd1d4",
   "metadata": {},
   "outputs": [
    {
     "name": "stdin",
     "output_type": "stream",
     "text": [
      "Enter the target month (1-12):  6\n",
      "Enter the target year (e.g., 2024):  2024\n"
     ]
    },
    {
     "name": "stdout",
     "output_type": "stream",
     "text": [
      "Sample data for the specified month generated!\n"
     ]
    }
   ],
   "source": [
    "from faker import Faker\n",
    "import random\n",
    "import pandas as pd\n",
    "fake = Faker()\n",
    "\n",
    "def generate_expenses(num_entries, month, year):\n",
    "    categories = ['Food', 'Transportation', 'Bills', 'Groceries', 'Subscriptions', 'Entertainment', 'Miscellaneous']\n",
    "    payment_modes = ['Cash', 'UPI', 'Credit Card', 'Debit Card', 'NetBanking']\n",
    "    bills = ['electricity', 'gas', 'water', 'wifi', 'phone']\n",
    "    subscription = ['spotify', 'wynk', 'prime', 'netflix', 'youtube']\n",
    "    \n",
    "    data = []\n",
    "    for _ in range(num_entries):\n",
    "        # Generate a random date within the specified month and year\n",
    "        date = fake.date_between_dates(\n",
    "            date_start=pd.Timestamp(year, month, 1),\n",
    "            date_end=pd.Timestamp(year, month, 28)  # Assume 28 days for simplicity\n",
    "        )\n",
    "        data.append({\n",
    "            'Date': date,\n",
    "            'Category': random.choice(categories),\n",
    "            'Payment_Mode': random.choice(payment_modes),\n",
    "            'Description': fake.sentence(nb_words=5),\n",
    "            'Amount_Paid': round(random.uniform(10, 500), 2),\n",
    "            'Cashback': round(random.uniform(0, 20), 2) if random.random() > 0.5 else 0.0\n",
    "        })\n",
    "    return pd.DataFrame(data)\n",
    "\n",
    "# User input for month and year\n",
    "target_month = int(input(\"Enter the target month (1-12): \"))\n",
    "target_year = int(input(\"Enter the target year (e.g., 2024): \"))\n",
    "\n",
    "# Generate data\n",
    "df = generate_expenses(100, target_month, target_year)\n",
    "\n",
    "# Save to CSV\n",
    "df.to_csv('expenses_specific_month.csv', index=False)\n",
    "print(\"Sample data for the specified month generated!\")"
   ]
  },
  {
   "cell_type": "code",
   "execution_count": 33,
   "id": "1587e988-729c-42fa-9ba9-65304e8c1915",
   "metadata": {},
   "outputs": [
    {
     "data": {
      "text/plain": [
       "100"
      ]
     },
     "execution_count": 33,
     "metadata": {},
     "output_type": "execute_result"
    }
   ],
   "source": [
    "import sqlite3\n",
    "conn = sqlite3.connect('expenses.db')\n",
    "df.to_sql('June', conn, if_exists='replace', index=False)"
   ]
  },
  {
   "cell_type": "code",
   "execution_count": 34,
   "id": "0ee23751-081c-4a1b-a86a-74b970064347",
   "metadata": {},
   "outputs": [
    {
     "name": "stdin",
     "output_type": "stream",
     "text": [
      "Enter the target month (1-12):  7\n",
      "Enter the target year (e.g., 2024):  2024\n"
     ]
    },
    {
     "name": "stdout",
     "output_type": "stream",
     "text": [
      "Sample data for the specified month generated!\n"
     ]
    }
   ],
   "source": [
    "from faker import Faker\n",
    "import random\n",
    "import pandas as pd\n",
    "fake = Faker()\n",
    "\n",
    "def generate_expenses(num_entries, month, year):\n",
    "    categories = ['Food', 'Transportation', 'Bills', 'Groceries', 'Subscriptions', 'Entertainment', 'Miscellaneous']\n",
    "    payment_modes = ['Cash', 'UPI', 'Credit Card', 'Debit Card', 'NetBanking']\n",
    "    bills = ['electricity', 'gas', 'water', 'wifi', 'phone']\n",
    "    subscription = ['spotify', 'wynk', 'prime', 'netflix', 'youtube']\n",
    "    \n",
    "    data = []\n",
    "    for _ in range(num_entries):\n",
    "        # Generate a random date within the specified month and year\n",
    "        date = fake.date_between_dates(\n",
    "            date_start=pd.Timestamp(year, month, 1),\n",
    "            date_end=pd.Timestamp(year, month, 28)  # Assume 28 days for simplicity\n",
    "        )\n",
    "        data.append({\n",
    "            'Date': date,\n",
    "            'Category': random.choice(categories),\n",
    "            'Payment_Mode': random.choice(payment_modes),\n",
    "            'Description': fake.sentence(nb_words=5),\n",
    "            'Amount_Paid': round(random.uniform(10, 500), 2),\n",
    "            'Cashback': round(random.uniform(0, 20), 2) if random.random() > 0.5 else 0.0\n",
    "        })\n",
    "    return pd.DataFrame(data)\n",
    "\n",
    "# User input for month and year\n",
    "target_month = int(input(\"Enter the target month (1-12): \"))\n",
    "target_year = int(input(\"Enter the target year (e.g., 2024): \"))\n",
    "\n",
    "# Generate data\n",
    "df = generate_expenses(100, target_month, target_year)\n",
    "\n",
    "# Save to CSV\n",
    "df.to_csv('expenses_specific_month.csv', index=False)\n",
    "print(\"Sample data for the specified month generated!\")"
   ]
  },
  {
   "cell_type": "code",
   "execution_count": 35,
   "id": "86c07a58-884a-4816-99d9-43a9a965f225",
   "metadata": {},
   "outputs": [
    {
     "data": {
      "text/plain": [
       "100"
      ]
     },
     "execution_count": 35,
     "metadata": {},
     "output_type": "execute_result"
    }
   ],
   "source": [
    "import sqlite3\n",
    "conn = sqlite3.connect('expenses.db')\n",
    "df.to_sql('July', conn, if_exists='replace', index=False)"
   ]
  },
  {
   "cell_type": "code",
   "execution_count": 36,
   "id": "645210da-7009-464f-9ac4-b6bdaef2141c",
   "metadata": {},
   "outputs": [
    {
     "name": "stdin",
     "output_type": "stream",
     "text": [
      "Enter the target month (1-12):  8\n",
      "Enter the target year (e.g., 2024):  2024\n"
     ]
    },
    {
     "name": "stdout",
     "output_type": "stream",
     "text": [
      "Sample data for the specified month generated!\n"
     ]
    }
   ],
   "source": [
    "from faker import Faker\n",
    "import random\n",
    "import pandas as pd\n",
    "fake = Faker()\n",
    "\n",
    "def generate_expenses(num_entries, month, year):\n",
    "    categories = ['Food', 'Transportation', 'Bills', 'Groceries', 'Subscriptions', 'Entertainment', 'Miscellaneous']\n",
    "    payment_modes = ['Cash', 'UPI', 'Credit Card', 'Debit Card', 'NetBanking']\n",
    "    bills = ['electricity', 'gas', 'water', 'wifi', 'phone']\n",
    "    subscription = ['spotify', 'wynk', 'prime', 'netflix', 'youtube']\n",
    "    \n",
    "    data = []\n",
    "    for _ in range(num_entries):\n",
    "        # Generate a random date within the specified month and year\n",
    "        date = fake.date_between_dates(\n",
    "            date_start=pd.Timestamp(year, month, 1),\n",
    "            date_end=pd.Timestamp(year, month, 28)  # Assume 28 days for simplicity\n",
    "        )\n",
    "        data.append({\n",
    "            'Date': date,\n",
    "            'Category': random.choice(categories),\n",
    "            'Payment_Mode': random.choice(payment_modes),\n",
    "            'Description': fake.sentence(nb_words=5),\n",
    "            'Amount_Paid': round(random.uniform(10, 500), 2),\n",
    "            'Cashback': round(random.uniform(0, 20), 2) if random.random() > 0.5 else 0.0\n",
    "        })\n",
    "    return pd.DataFrame(data)\n",
    "\n",
    "# User input for month and year\n",
    "target_month = int(input(\"Enter the target month (1-12): \"))\n",
    "target_year = int(input(\"Enter the target year (e.g., 2024): \"))\n",
    "\n",
    "# Generate data\n",
    "df = generate_expenses(100, target_month, target_year)\n",
    "\n",
    "# Save to CSV\n",
    "df.to_csv('expenses_specific_month.csv', index=False)\n",
    "print(\"Sample data for the specified month generated!\")"
   ]
  },
  {
   "cell_type": "code",
   "execution_count": 37,
   "id": "b6103790-1a3d-4759-9585-0ded1da0baa7",
   "metadata": {},
   "outputs": [
    {
     "data": {
      "text/plain": [
       "100"
      ]
     },
     "execution_count": 37,
     "metadata": {},
     "output_type": "execute_result"
    }
   ],
   "source": [
    "import sqlite3\n",
    "conn = sqlite3.connect('expenses.db')\n",
    "df.to_sql('August', conn, if_exists='replace', index=False)"
   ]
  },
  {
   "cell_type": "code",
   "execution_count": 38,
   "id": "89ac219e-ac51-42e4-a753-1e101a45080a",
   "metadata": {},
   "outputs": [
    {
     "name": "stdin",
     "output_type": "stream",
     "text": [
      "Enter the target month (1-12):  9\n",
      "Enter the target year (e.g., 2024):  2024\n"
     ]
    },
    {
     "name": "stdout",
     "output_type": "stream",
     "text": [
      "Sample data for the specified month generated!\n"
     ]
    }
   ],
   "source": [
    "from faker import Faker\n",
    "import random\n",
    "import pandas as pd\n",
    "fake = Faker()\n",
    "\n",
    "def generate_expenses(num_entries, month, year):\n",
    "    categories = ['Food', 'Transportation', 'Bills', 'Groceries', 'Subscriptions', 'Entertainment', 'Miscellaneous']\n",
    "    payment_modes = ['Cash', 'UPI', 'Credit Card', 'Debit Card', 'NetBanking']\n",
    "    bills = ['electricity', 'gas', 'water', 'wifi', 'phone']\n",
    "    subscription = ['spotify', 'wynk', 'prime', 'netflix', 'youtube']\n",
    "    \n",
    "    data = []\n",
    "    for _ in range(num_entries):\n",
    "        # Generate a random date within the specified month and year\n",
    "        date = fake.date_between_dates(\n",
    "            date_start=pd.Timestamp(year, month, 1),\n",
    "            date_end=pd.Timestamp(year, month, 28)  # Assume 28 days for simplicity\n",
    "        )\n",
    "        data.append({\n",
    "            'Date': date,\n",
    "            'Category': random.choice(categories),\n",
    "            'Payment_Mode': random.choice(payment_modes),\n",
    "            'Description': fake.sentence(nb_words=5),\n",
    "            'Amount_Paid': round(random.uniform(10, 500), 2),\n",
    "            'Cashback': round(random.uniform(0, 20), 2) if random.random() > 0.5 else 0.0\n",
    "        })\n",
    "    return pd.DataFrame(data)\n",
    "\n",
    "# User input for month and year\n",
    "target_month = int(input(\"Enter the target month (1-12): \"))\n",
    "target_year = int(input(\"Enter the target year (e.g., 2024): \"))\n",
    "\n",
    "# Generate data\n",
    "df = generate_expenses(100, target_month, target_year)\n",
    "\n",
    "# Save to CSV\n",
    "df.to_csv('expenses_specific_month.csv', index=False)\n",
    "print(\"Sample data for the specified month generated!\")"
   ]
  },
  {
   "cell_type": "code",
   "execution_count": 39,
   "id": "48966303-feb7-44ce-8c7f-06e3d91fe1cb",
   "metadata": {},
   "outputs": [
    {
     "data": {
      "text/plain": [
       "100"
      ]
     },
     "execution_count": 39,
     "metadata": {},
     "output_type": "execute_result"
    }
   ],
   "source": [
    "import sqlite3\n",
    "conn = sqlite3.connect('expenses.db')\n",
    "df.to_sql('September', conn, if_exists='replace', index=False)"
   ]
  },
  {
   "cell_type": "code",
   "execution_count": 40,
   "id": "ef74a478-a59d-4f05-bcf2-931775f2c319",
   "metadata": {},
   "outputs": [
    {
     "name": "stdin",
     "output_type": "stream",
     "text": [
      "Enter the target month (1-12):  10\n",
      "Enter the target year (e.g., 2024):  2024\n"
     ]
    },
    {
     "name": "stdout",
     "output_type": "stream",
     "text": [
      "Sample data for the specified month generated!\n"
     ]
    }
   ],
   "source": [
    "from faker import Faker\n",
    "import random\n",
    "import pandas as pd\n",
    "fake = Faker()\n",
    "\n",
    "def generate_expenses(num_entries, month, year):\n",
    "    categories = ['Food', 'Transportation', 'Bills', 'Groceries', 'Subscriptions', 'Entertainment', 'Miscellaneous']\n",
    "    payment_modes = ['Cash', 'UPI', 'Credit Card', 'Debit Card', 'NetBanking']\n",
    "    bills = ['electricity', 'gas', 'water', 'wifi', 'phone']\n",
    "    subscription = ['spotify', 'wynk', 'prime', 'netflix', 'youtube']\n",
    "    \n",
    "    data = []\n",
    "    for _ in range(num_entries):\n",
    "        # Generate a random date within the specified month and year\n",
    "        date = fake.date_between_dates(\n",
    "            date_start=pd.Timestamp(year, month, 1),\n",
    "            date_end=pd.Timestamp(year, month, 28)  # Assume 28 days for simplicity\n",
    "        )\n",
    "        data.append({\n",
    "            'Date': date,\n",
    "            'Category': random.choice(categories),\n",
    "            'Payment_Mode': random.choice(payment_modes),\n",
    "            'Description': fake.sentence(nb_words=5),\n",
    "            'Amount_Paid': round(random.uniform(10, 500), 2),\n",
    "            'Cashback': round(random.uniform(0, 20), 2) if random.random() > 0.5 else 0.0\n",
    "        })\n",
    "    return pd.DataFrame(data)\n",
    "\n",
    "# User input for month and year\n",
    "target_month = int(input(\"Enter the target month (1-12): \"))\n",
    "target_year = int(input(\"Enter the target year (e.g., 2024): \"))\n",
    "\n",
    "# Generate data\n",
    "df = generate_expenses(100, target_month, target_year)\n",
    "\n",
    "# Save to CSV\n",
    "df.to_csv('expenses_specific_month.csv', index=False)\n",
    "print(\"Sample data for the specified month generated!\")"
   ]
  },
  {
   "cell_type": "code",
   "execution_count": 41,
   "id": "cfe599c0-f6fd-4fbc-9832-e6d694baf877",
   "metadata": {},
   "outputs": [
    {
     "data": {
      "text/plain": [
       "100"
      ]
     },
     "execution_count": 41,
     "metadata": {},
     "output_type": "execute_result"
    }
   ],
   "source": [
    "import sqlite3\n",
    "conn = sqlite3.connect('expenses.db')\n",
    "df.to_sql('October', conn, if_exists='replace', index=False)"
   ]
  },
  {
   "cell_type": "code",
   "execution_count": 42,
   "id": "4b9b226a-3c7e-42ad-a09f-1017c735f351",
   "metadata": {},
   "outputs": [
    {
     "name": "stdin",
     "output_type": "stream",
     "text": [
      "Enter the target month (1-12):  11\n",
      "Enter the target year (e.g., 2024):  2024\n"
     ]
    },
    {
     "name": "stdout",
     "output_type": "stream",
     "text": [
      "Sample data for the specified month generated!\n"
     ]
    }
   ],
   "source": [
    "from faker import Faker\n",
    "import random\n",
    "import pandas as pd\n",
    "fake = Faker()\n",
    "\n",
    "def generate_expenses(num_entries, month, year):\n",
    "    categories = ['Food', 'Transportation', 'Bills', 'Groceries', 'Subscriptions', 'Entertainment', 'Miscellaneous']\n",
    "    payment_modes = ['Cash', 'UPI', 'Credit Card', 'Debit Card', 'NetBanking']\n",
    "    bills = ['electricity', 'gas', 'water', 'wifi', 'phone']\n",
    "    subscription = ['spotify', 'wynk', 'prime', 'netflix', 'youtube']\n",
    "    \n",
    "    data = []\n",
    "    for _ in range(num_entries):\n",
    "        # Generate a random date within the specified month and year\n",
    "        date = fake.date_between_dates(\n",
    "            date_start=pd.Timestamp(year, month, 1),\n",
    "            date_end=pd.Timestamp(year, month, 28)  # Assume 28 days for simplicity\n",
    "        )\n",
    "        data.append({\n",
    "            'Date': date,\n",
    "            'Category': random.choice(categories),\n",
    "            'Payment_Mode': random.choice(payment_modes),\n",
    "            'Description': fake.sentence(nb_words=5),\n",
    "            'Amount_Paid': round(random.uniform(10, 500), 2),\n",
    "            'Cashback': round(random.uniform(0, 20), 2) if random.random() > 0.5 else 0.0\n",
    "        })\n",
    "    return pd.DataFrame(data)\n",
    "\n",
    "# User input for month and year\n",
    "target_month = int(input(\"Enter the target month (1-12): \"))\n",
    "target_year = int(input(\"Enter the target year (e.g., 2024): \"))\n",
    "\n",
    "# Generate data\n",
    "df = generate_expenses(100, target_month, target_year)\n",
    "\n",
    "# Save to CSV\n",
    "df.to_csv('expenses_specific_month.csv', index=False)\n",
    "print(\"Sample data for the specified month generated!\")"
   ]
  },
  {
   "cell_type": "code",
   "execution_count": 43,
   "id": "66ea86e9-04d6-4895-ad91-d8bcc2bf87a3",
   "metadata": {},
   "outputs": [
    {
     "data": {
      "text/plain": [
       "100"
      ]
     },
     "execution_count": 43,
     "metadata": {},
     "output_type": "execute_result"
    }
   ],
   "source": [
    "import sqlite3\n",
    "conn = sqlite3.connect('expenses.db')\n",
    "df.to_sql('November', conn, if_exists='replace', index=False)"
   ]
  },
  {
   "cell_type": "code",
   "execution_count": 44,
   "id": "604bce56-45ba-4115-ad65-d2b89b02705d",
   "metadata": {},
   "outputs": [
    {
     "name": "stdin",
     "output_type": "stream",
     "text": [
      "Enter the target month (1-12):  12\n",
      "Enter the target year (e.g., 2024):  2024\n"
     ]
    },
    {
     "name": "stdout",
     "output_type": "stream",
     "text": [
      "Sample data for the specified month generated!\n"
     ]
    }
   ],
   "source": [
    "from faker import Faker\n",
    "import random\n",
    "import pandas as pd\n",
    "fake = Faker()\n",
    "\n",
    "def generate_expenses(num_entries, month, year):\n",
    "    categories = ['Food', 'Transportation', 'Bills', 'Groceries', 'Subscriptions', 'Entertainment', 'Miscellaneous']\n",
    "    payment_modes = ['Cash', 'UPI', 'Credit Card', 'Debit Card', 'NetBanking']\n",
    "    bills = ['electricity', 'gas', 'water', 'wifi', 'phone']\n",
    "    subscription = ['spotify', 'wynk', 'prime', 'netflix', 'youtube']\n",
    "    \n",
    "    data = []\n",
    "    for _ in range(num_entries):\n",
    "        # Generate a random date within the specified month and year\n",
    "        date = fake.date_between_dates(\n",
    "            date_start=pd.Timestamp(year, month, 1),\n",
    "            date_end=pd.Timestamp(year, month, 28)  # Assume 28 days for simplicity\n",
    "        )\n",
    "        data.append({\n",
    "            'Date': date,\n",
    "            'Category': random.choice(categories),\n",
    "            'Payment_Mode': random.choice(payment_modes),\n",
    "            'Description': fake.sentence(nb_words=5),\n",
    "            'Amount_Paid': round(random.uniform(10, 500), 2),\n",
    "            'Cashback': round(random.uniform(0, 20), 2) if random.random() > 0.5 else 0.0\n",
    "        })\n",
    "    return pd.DataFrame(data)\n",
    "\n",
    "# User input for month and year\n",
    "target_month = int(input(\"Enter the target month (1-12): \"))\n",
    "target_year = int(input(\"Enter the target year (e.g., 2024): \"))\n",
    "\n",
    "# Generate data\n",
    "df = generate_expenses(100, target_month, target_year)\n",
    "\n",
    "# Save to CSV\n",
    "df.to_csv('expenses_specific_month.csv', index=False)\n",
    "print(\"Sample data for the specified month generated!\")"
   ]
  },
  {
   "cell_type": "code",
   "execution_count": 45,
   "id": "7fab6e8c-406b-426c-a5f5-ae7daa4bbd97",
   "metadata": {},
   "outputs": [
    {
     "data": {
      "text/plain": [
       "100"
      ]
     },
     "execution_count": 45,
     "metadata": {},
     "output_type": "execute_result"
    }
   ],
   "source": [
    "import sqlite3\n",
    "conn = sqlite3.connect('expenses.db')\n",
    "df.to_sql('December', conn, if_exists='replace', index=False)"
   ]
  },
  {
   "cell_type": "code",
   "execution_count": 46,
   "id": "09ae531f-2b08-4052-af5d-1cb6a17a64de",
   "metadata": {},
   "outputs": [
    {
     "name": "stdout",
     "output_type": "stream",
     "text": [
      "Data from January table has been added to AllMonths.\n",
      "Data from February table has been added to AllMonths.\n",
      "Data from March table has been added to AllMonths.\n",
      "Data from April table has been added to AllMonths.\n",
      "Data from May table has been added to AllMonths.\n",
      "Data from June table has been added to AllMonths.\n",
      "Data from July table has been added to AllMonths.\n",
      "Data from August table has been added to AllMonths.\n",
      "Data from September table has been added to AllMonths.\n",
      "Data from October table has been added to AllMonths.\n",
      "Data from November table has been added to AllMonths.\n",
      "Data from December table has been added to AllMonths.\n",
      "Total rows in AllMonths table: 2400\n"
     ]
    }
   ],
   "source": [
    "import sqlite3\n",
    "\n",
    "#Connect to the SQLite database (or create it if it doesn't exist)\n",
    "conn = sqlite3.connect('expenses.db')\n",
    "cursor = conn.cursor()\n",
    "\n",
    "#Create the consolidated table if it doesn't already exist\n",
    "cursor.execute('''\n",
    "CREATE TABLE IF NOT EXISTS AllMonths (\n",
    "    Date TEXT,\n",
    "    Category TEXT,\n",
    "    Payment_Mode TEXT,\n",
    "    Description TEXT,\n",
    "    Amount_Paid REAL,\n",
    "    Cashback REAL\n",
    ");\n",
    "''')\n",
    "conn.commit()\n",
    "\n",
    "#List of monthly table names\n",
    "months = ['January', 'February', 'March', 'April', 'May', 'June', \n",
    "          'July', 'August', 'September', 'October', 'November', 'December']\n",
    "#Loop through each month and copy data into the consolidated table\n",
    "for month in months:\n",
    "    try:\n",
    "        # Copy data from the monthly table to the consolidated table\n",
    "        cursor.execute(f'''\n",
    "        INSERT INTO AllMonths\n",
    "        SELECT * FROM {month};\n",
    "        ''')\n",
    "        print(f\"Data from {month} table has been added to AllMonths.\")\n",
    "    except sqlite3.OperationalError as e:\n",
    "        print(f\"Error with {month} table: {e}. Skipping this table.\")\n",
    "\n",
    "#Commit the changes\n",
    "conn.commit()\n",
    "\n",
    "#Verify the number of rows in the consolidated table\n",
    "cursor.execute('SELECT COUNT(*) FROM AllMonths;')\n",
    "row_count = cursor.fetchone()[0]\n",
    "print(f\"Total rows in AllMonths table: {row_count}\")\n",
    "\n",
    "#Close the connection\n",
    "conn.close()"
   ]
  },
  {
   "cell_type": "code",
   "execution_count": 47,
   "id": "0658feac-7239-43a9-9967-75343899e8c0",
   "metadata": {},
   "outputs": [
    {
     "name": "stdout",
     "output_type": "stream",
     "text": [
      "            Date        Category Payment_Mode  \\\n",
      "0     2024-07-05            Food  Credit Card   \n",
      "1     2024-07-27   Entertainment   Debit Card   \n",
      "2     2024-05-22  Transportation   Debit Card   \n",
      "3     2024-11-19   Miscellaneous   NetBanking   \n",
      "4     2024-02-05       Groceries  Credit Card   \n",
      "...          ...             ...          ...   \n",
      "2395  2024-12-21  Transportation          UPI   \n",
      "2396  2024-12-21           Bills  Credit Card   \n",
      "2397  2024-12-19   Entertainment   NetBanking   \n",
      "2398  2024-12-05            Food  Credit Card   \n",
      "2399  2024-12-08   Subscriptions   Debit Card   \n",
      "\n",
      "                                   Description  Amount_Paid  Cashback  \n",
      "0                             Thing field age.       495.29      1.29  \n",
      "1       Mother environment available yet data.       279.09     17.53  \n",
      "2       Realize name car certain result which.       442.73     15.06  \n",
      "3                    Threat receive move race.        62.16      7.74  \n",
      "4                    Perform husband approach.       479.77      8.33  \n",
      "...                                        ...          ...       ...  \n",
      "2395  Low brother clearly series check either.       127.18      0.00  \n",
      "2396     Design plan here letter theory treat.       226.03      6.44  \n",
      "2397           Assume happy investment across.       328.52      0.00  \n",
      "2398                         Congress low act.       488.50      0.00  \n",
      "2399  Fill control property each hand involve.       402.34      0.00  \n",
      "\n",
      "[2400 rows x 6 columns]\n"
     ]
    },
    {
     "data": {
      "text/html": [
       "<div>\n",
       "<style scoped>\n",
       "    .dataframe tbody tr th:only-of-type {\n",
       "        vertical-align: middle;\n",
       "    }\n",
       "\n",
       "    .dataframe tbody tr th {\n",
       "        vertical-align: top;\n",
       "    }\n",
       "\n",
       "    .dataframe thead th {\n",
       "        text-align: right;\n",
       "    }\n",
       "</style>\n",
       "<table border=\"1\" class=\"dataframe\">\n",
       "  <thead>\n",
       "    <tr style=\"text-align: right;\">\n",
       "      <th></th>\n",
       "      <th>Date</th>\n",
       "      <th>Category</th>\n",
       "      <th>Payment_Mode</th>\n",
       "      <th>Description</th>\n",
       "      <th>Amount_Paid</th>\n",
       "      <th>Cashback</th>\n",
       "    </tr>\n",
       "  </thead>\n",
       "  <tbody>\n",
       "    <tr>\n",
       "      <th>0</th>\n",
       "      <td>2024-07-05</td>\n",
       "      <td>Food</td>\n",
       "      <td>Credit Card</td>\n",
       "      <td>Thing field age.</td>\n",
       "      <td>495.29</td>\n",
       "      <td>1.29</td>\n",
       "    </tr>\n",
       "    <tr>\n",
       "      <th>1</th>\n",
       "      <td>2024-07-27</td>\n",
       "      <td>Entertainment</td>\n",
       "      <td>Debit Card</td>\n",
       "      <td>Mother environment available yet data.</td>\n",
       "      <td>279.09</td>\n",
       "      <td>17.53</td>\n",
       "    </tr>\n",
       "    <tr>\n",
       "      <th>2</th>\n",
       "      <td>2024-05-22</td>\n",
       "      <td>Transportation</td>\n",
       "      <td>Debit Card</td>\n",
       "      <td>Realize name car certain result which.</td>\n",
       "      <td>442.73</td>\n",
       "      <td>15.06</td>\n",
       "    </tr>\n",
       "    <tr>\n",
       "      <th>3</th>\n",
       "      <td>2024-11-19</td>\n",
       "      <td>Miscellaneous</td>\n",
       "      <td>NetBanking</td>\n",
       "      <td>Threat receive move race.</td>\n",
       "      <td>62.16</td>\n",
       "      <td>7.74</td>\n",
       "    </tr>\n",
       "    <tr>\n",
       "      <th>4</th>\n",
       "      <td>2024-02-05</td>\n",
       "      <td>Groceries</td>\n",
       "      <td>Credit Card</td>\n",
       "      <td>Perform husband approach.</td>\n",
       "      <td>479.77</td>\n",
       "      <td>8.33</td>\n",
       "    </tr>\n",
       "    <tr>\n",
       "      <th>...</th>\n",
       "      <td>...</td>\n",
       "      <td>...</td>\n",
       "      <td>...</td>\n",
       "      <td>...</td>\n",
       "      <td>...</td>\n",
       "      <td>...</td>\n",
       "    </tr>\n",
       "    <tr>\n",
       "      <th>2395</th>\n",
       "      <td>2024-12-21</td>\n",
       "      <td>Transportation</td>\n",
       "      <td>UPI</td>\n",
       "      <td>Low brother clearly series check either.</td>\n",
       "      <td>127.18</td>\n",
       "      <td>0.00</td>\n",
       "    </tr>\n",
       "    <tr>\n",
       "      <th>2396</th>\n",
       "      <td>2024-12-21</td>\n",
       "      <td>Bills</td>\n",
       "      <td>Credit Card</td>\n",
       "      <td>Design plan here letter theory treat.</td>\n",
       "      <td>226.03</td>\n",
       "      <td>6.44</td>\n",
       "    </tr>\n",
       "    <tr>\n",
       "      <th>2397</th>\n",
       "      <td>2024-12-19</td>\n",
       "      <td>Entertainment</td>\n",
       "      <td>NetBanking</td>\n",
       "      <td>Assume happy investment across.</td>\n",
       "      <td>328.52</td>\n",
       "      <td>0.00</td>\n",
       "    </tr>\n",
       "    <tr>\n",
       "      <th>2398</th>\n",
       "      <td>2024-12-05</td>\n",
       "      <td>Food</td>\n",
       "      <td>Credit Card</td>\n",
       "      <td>Congress low act.</td>\n",
       "      <td>488.50</td>\n",
       "      <td>0.00</td>\n",
       "    </tr>\n",
       "    <tr>\n",
       "      <th>2399</th>\n",
       "      <td>2024-12-08</td>\n",
       "      <td>Subscriptions</td>\n",
       "      <td>Debit Card</td>\n",
       "      <td>Fill control property each hand involve.</td>\n",
       "      <td>402.34</td>\n",
       "      <td>0.00</td>\n",
       "    </tr>\n",
       "  </tbody>\n",
       "</table>\n",
       "<p>2400 rows × 6 columns</p>\n",
       "</div>"
      ],
      "text/plain": [
       "            Date        Category Payment_Mode  \\\n",
       "0     2024-07-05            Food  Credit Card   \n",
       "1     2024-07-27   Entertainment   Debit Card   \n",
       "2     2024-05-22  Transportation   Debit Card   \n",
       "3     2024-11-19   Miscellaneous   NetBanking   \n",
       "4     2024-02-05       Groceries  Credit Card   \n",
       "...          ...             ...          ...   \n",
       "2395  2024-12-21  Transportation          UPI   \n",
       "2396  2024-12-21           Bills  Credit Card   \n",
       "2397  2024-12-19   Entertainment   NetBanking   \n",
       "2398  2024-12-05            Food  Credit Card   \n",
       "2399  2024-12-08   Subscriptions   Debit Card   \n",
       "\n",
       "                                   Description  Amount_Paid  Cashback  \n",
       "0                             Thing field age.       495.29      1.29  \n",
       "1       Mother environment available yet data.       279.09     17.53  \n",
       "2       Realize name car certain result which.       442.73     15.06  \n",
       "3                    Threat receive move race.        62.16      7.74  \n",
       "4                    Perform husband approach.       479.77      8.33  \n",
       "...                                        ...          ...       ...  \n",
       "2395  Low brother clearly series check either.       127.18      0.00  \n",
       "2396     Design plan here letter theory treat.       226.03      6.44  \n",
       "2397           Assume happy investment across.       328.52      0.00  \n",
       "2398                         Congress low act.       488.50      0.00  \n",
       "2399  Fill control property each hand involve.       402.34      0.00  \n",
       "\n",
       "[2400 rows x 6 columns]"
      ]
     },
     "metadata": {},
     "output_type": "display_data"
    }
   ],
   "source": [
    "import sqlite3\n",
    "import pandas as pd\n",
    "\n",
    "# Connect to the database\n",
    "conn = sqlite3.connect('expenses.db')\n",
    "\n",
    "# Load the table into a Pandas DataFrame\n",
    "df = pd.read_sql_query(\"SELECT * FROM AllMonths;\", conn)\n",
    "\n",
    "# Display the DataFrame\n",
    "print(df)\n",
    "\n",
    "# show as a table in Jupyter Notebook\n",
    "from IPython.display import display\n",
    "display(df)\n",
    "\n",
    "# Close the connection\n",
    "conn.close()"
   ]
  },
  {
   "cell_type": "code",
   "execution_count": 48,
   "id": "99a85d76-80fa-469a-98f9-6ff6cccb64cb",
   "metadata": {},
   "outputs": [
    {
     "name": "stdout",
     "output_type": "stream",
     "text": [
      "Data exported successfully to all_months_expenses.csv\n"
     ]
    }
   ],
   "source": [
    "import sqlite3\n",
    "import pandas as pd\n",
    "\n",
    "# Connect to the SQLite database\n",
    "conn = sqlite3.connect('expenses.db')\n",
    "\n",
    "# Load the data from the AllMonths table into a Pandas DataFrame\n",
    "df = pd.read_sql_query(\"SELECT * FROM AllMonths;\", conn)\n",
    "\n",
    "# Save the DataFrame as a CSV file\n",
    "csv_file_path = \"all_months_expenses.csv\"\n",
    "df.to_csv(csv_file_path, index=False)\n",
    "\n",
    "# Close the database connection\n",
    "conn.close()\n",
    "\n",
    "print(f\"Data exported successfully to {csv_file_path}\")"
   ]
  },
  {
   "cell_type": "code",
   "execution_count": 49,
   "id": "3312da7c-39a0-4bc4-bc01-7469f0ba8f37",
   "metadata": {},
   "outputs": [],
   "source": [
    "# Further queries were run on MySQL workbench"
   ]
  },
  {
   "cell_type": "code",
   "execution_count": 50,
   "id": "7e1d58e4-2812-4a3f-8445-1fd3e0d4441e",
   "metadata": {},
   "outputs": [],
   "source": [
    "import mysql.connector"
   ]
  },
  {
   "cell_type": "code",
   "execution_count": 51,
   "id": "a3ef1d26-4370-4f8f-af36-abf238f7c7ff",
   "metadata": {},
   "outputs": [],
   "source": [
    "from getpass import getpass\n",
    "from mysql.connector import connect, Error"
   ]
  },
  {
   "cell_type": "code",
   "execution_count": 52,
   "id": "6377353b-6a7f-4823-a603-4aaaea55dffe",
   "metadata": {},
   "outputs": [
    {
     "name": "stdin",
     "output_type": "stream",
     "text": [
      "Enter username root\n",
      "Enter password:  ········\n"
     ]
    },
    {
     "name": "stdout",
     "output_type": "stream",
     "text": [
      "<mysql.connector.connection_cext.CMySQLConnection object at 0x0000022C17991390>\n"
     ]
    }
   ],
   "source": [
    "try:\n",
    "    with connect(\n",
    "        host = \"localhost\",\n",
    "        user = input(\"Enter username\"),\n",
    "        password = getpass(\"Enter password: \"),\n",
    "    ) as connection:\n",
    "        print(connection)\n",
    "except Error as e:\n",
    "    print(e)"
   ]
  },
  {
   "cell_type": "code",
   "execution_count": 53,
   "id": "f7a49281-4617-4a49-b90d-2a675c5583aa",
   "metadata": {},
   "outputs": [],
   "source": [
    "# Data visulaisation was done on VScode using streamlit"
   ]
  },
  {
   "cell_type": "code",
   "execution_count": null,
   "id": "2b7beecc-6a28-4970-b24f-38c9c030a83a",
   "metadata": {},
   "outputs": [],
   "source": []
  }
 ],
 "metadata": {
  "kernelspec": {
   "display_name": "Python 3 (ipykernel)",
   "language": "python",
   "name": "python3"
  },
  "language_info": {
   "codemirror_mode": {
    "name": "ipython",
    "version": 3
   },
   "file_extension": ".py",
   "mimetype": "text/x-python",
   "name": "python",
   "nbconvert_exporter": "python",
   "pygments_lexer": "ipython3",
   "version": "3.11.10"
  }
 },
 "nbformat": 4,
 "nbformat_minor": 5
}
